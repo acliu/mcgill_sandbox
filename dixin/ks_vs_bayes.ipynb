{
 "cells": [
  {
   "cell_type": "markdown",
   "metadata": {},
   "source": [
    "# Comparison between KS goodness-of-fit test and Bayesian model selection\n",
    "\n",
    "We want to determine which model selection method performs better when the sample size is small. High-delay signals from real data are used for model fitting in this notebook. "
   ]
  },
  {
   "cell_type": "code",
   "execution_count": null,
   "metadata": {},
   "outputs": [],
   "source": [
    "%matplotlib inline\n",
    "import numpy as np\n",
    "import matplotlib.pyplot as plt\n",
    "import hera_pspec as hp\n",
    "from pyuvdata import UVData\n",
    "from scipy.stats import norm\n",
    "from scipy.optimize import curve_fit\n",
    "from scipy import integrate,stats"
   ]
  },
  {
   "cell_type": "markdown",
   "metadata": {},
   "source": [
    "## 1.  Estimating the power spectra for two baseline pairs (auto-baseline pspec)"
   ]
  },
  {
   "cell_type": "code",
   "execution_count": null,
   "metadata": {},
   "outputs": [],
   "source": [
    "# Load beam model\n",
    "beamfile = 'HERA_NF_dipole_power.beamfits'\n",
    "cosmo = hp.conversions.Cosmo_Conversions()\n",
    "uvb = hp.pspecbeam.PSpecBeamUV(beamfile, cosmo=cosmo)"
   ]
  },
  {
   "cell_type": "code",
   "execution_count": null,
   "metadata": {},
   "outputs": [],
   "source": [
    "# Load data into UVData objects\n",
    "dfile = 'zen.2458101.clean-002.uvh5'\n",
    "uvd = UVData()\n",
    "uvd.read(dfile)"
   ]
  },
  {
   "cell_type": "markdown",
   "metadata": {},
   "source": [
    "   "
   ]
  },
  {
   "cell_type": "markdown",
   "metadata": {},
   "source": [
    "*Run the block below for systematic model subtraction (if needed).*"
   ]
  },
  {
   "cell_type": "code",
   "execution_count": null,
   "metadata": {},
   "outputs": [],
   "source": [
    "# mdfile = 'zen.2458101.xtmdl.uvh5' \n",
    "# #zen.2458116.34176.xx.HH.uvOCRS #zen.2458101.clean-002.uvh5 #zen.2458101.xtmdl.uvh5\n",
    "# muvd = UVData()\n",
    "# muvd.read(mdfile)\n",
    "\n",
    "# bl1 = (66, 67, 'xx')\n",
    "# bl2 = (83, 84, 'xx')\n",
    "# bl3 = (37, 38, 'xx')\n",
    "\n",
    "# blt_inds = uvd.antpair2ind(bl1)\n",
    "# uvd.data_array[blt_inds, 0, :, 0] -= muvd.get_data(bl1)\n",
    "\n",
    "# blt_inds = uvd.antpair2ind(bl2)\n",
    "# uvd.data_array[blt_inds, 0, :, 0] -= muvd.get_data(bl2)\n",
    "\n",
    "# blt_inds = uvd.antpair2ind(bl3)\n",
    "# uvd.data_array[blt_inds, 0, :, 0] -= muvd.get_data(bl3)"
   ]
  },
  {
   "cell_type": "markdown",
   "metadata": {},
   "source": [
    "   "
   ]
  },
  {
   "cell_type": "code",
   "execution_count": null,
   "metadata": {},
   "outputs": [],
   "source": [
    "# find conversion factor from Jy to mK\n",
    "Jy_to_mK = uvb.Jy_to_mK(np.unique(uvd.freq_array), pol='xx')\n",
    "uvd.data_array *= Jy_to_mK[None, None, :, None]"
   ]
  },
  {
   "cell_type": "code",
   "execution_count": null,
   "metadata": {},
   "outputs": [],
   "source": [
    "# We only have 1 data file here, so slide the time axis by one integration \n",
    "# to avoid noise bias (not normally needed!)\n",
    "uvd1 = uvd.select(times=np.unique(uvd.time_array)[16:44:2], inplace=False)\n",
    "uvd2 = uvd.select(times=np.unique(uvd.time_array)[17:45:2], inplace=False)"
   ]
  },
  {
   "cell_type": "code",
   "execution_count": null,
   "metadata": {},
   "outputs": [],
   "source": [
    "# Create a new PSpecData object\n",
    "ds = hp.PSpecData(dsets=[uvd1, uvd2], wgts=[None, None], beam=uvb)\n",
    "ds.rephase_to_dset(0) # Phase to the zeroth dataset"
   ]
  },
  {
   "cell_type": "code",
   "execution_count": null,
   "metadata": {},
   "outputs": [],
   "source": [
    "# Specify which baselines to include\n",
    "baselines = [(66, 67), (83, 84), (37, 38)]\n",
    "\n",
    "# Define uvp\n",
    "uvp = ds.pspec(baselines, baselines, (0, 1), [('xx', 'xx')], spw_ranges=[(520, 690)],  \n",
    "               input_data_weight='identity',\n",
    "               norm='I', taper='blackman-harris', verbose=False) "
   ]
  },
  {
   "cell_type": "code",
   "execution_count": null,
   "metadata": {},
   "outputs": [],
   "source": [
    "# get delays\n",
    "spw = 0\n",
    "dlys = uvp.get_dlys(spw) * 1e9"
   ]
  },
  {
   "cell_type": "code",
   "execution_count": null,
   "metadata": {
    "scrolled": true
   },
   "outputs": [],
   "source": [
    "# pspec with sys. features\n",
    "blp = ((66, 67), (66, 67))\n",
    "key1 = (spw, blp, 'xx')\n",
    "power1 = np.real(uvp.get_data(key1))\n",
    "\n",
    "# pspec without sys. features\n",
    "blp = ((83, 84), (83, 84))\n",
    "key2 = (spw, blp, 'xx')\n",
    "power2 = np.real(uvp.get_data(key2))"
   ]
  },
  {
   "cell_type": "markdown",
   "metadata": {},
   "source": [
    "## 2. Define models ($\\mathcal{N}$, $\\mathcal{CNN}$ and $\\Delta\\mathcal{CNN}$)"
   ]
  },
  {
   "cell_type": "markdown",
   "metadata": {},
   "source": [
    "### 2.1 Gaussian distribution ($N$)"
   ]
  },
  {
   "cell_type": "code",
   "execution_count": null,
   "metadata": {},
   "outputs": [],
   "source": [
    "def gaus_pdf(x, mu, sig):\n",
    "    \"\"\"\n",
    "    Compute the PDF of the Gaussian distribution\n",
    "    \n",
    "    Parameters\n",
    "    ----------\n",
    "    x : float, array_like\n",
    "        Input data.\n",
    "    mu : float\n",
    "        Mean of the data.\n",
    "    sig : float\n",
    "        Standard deviation of the data.\n",
    "    \n",
    "    Return\n",
    "    -------\n",
    "    p : float, array_like\n",
    "        Return the PDF.\n",
    "    \"\"\"\n",
    "    \n",
    "    pdf = np.exp(-np.power(x - mu, 2.) / (2 * np.power(sig, 2.)))\n",
    "    return pdf\n",
    "\n",
    "def gaus_cdf(x, mu, sig, range_start, range_end):\n",
    "    \"\"\"\n",
    "    Compute the CDF of the Gaussian distribution\n",
    "    \n",
    "    Parameters\n",
    "    ----------\n",
    "    x : float, array_like\n",
    "        Input data.\n",
    "    mu : float\n",
    "        Mean of the data.\n",
    "    sig : float\n",
    "        Standard deviation of the data.\n",
    "    range_start, range_end : float\n",
    "        Minimum and maximum value in the data.\n",
    "    \n",
    "    Return\n",
    "    -------\n",
    "    np.array(values) : array\n",
    "        Return the CDF.\n",
    "    \n",
    "    \"\"\"\n",
    "    values = []\n",
    "    for value in x:\n",
    "        integral = integrate.quad(lambda k: gaus_pdf(k, mu, sig),range_start,value)[0]\n",
    "        normalized = integral/integrate.quad(lambda k: gaus_pdf(k, mu, sig),range_start,range_end)[0]\n",
    "        values.append(normalized)\n",
    "    return np.array(values)"
   ]
  },
  {
   "cell_type": "markdown",
   "metadata": {},
   "source": [
    "### 2.2 Complex double Gaussian distribution ($\\mathcal{CNN}$)"
   ]
  },
  {
   "cell_type": "code",
   "execution_count": null,
   "metadata": {},
   "outputs": [],
   "source": [
    "def real_pdf(z, s):\n",
    "    \"\"\"\n",
    "    Compute the PDF of the CNN distribution\n",
    "    \n",
    "    Parameters\n",
    "    ----------\n",
    "    z : float, array_like\n",
    "        Input data.\n",
    "    s : float\n",
    "        Standard deviation of the input data.\n",
    "    \n",
    "    Return\n",
    "    -------\n",
    "    p : float, array_like\n",
    "        Return the PDF.\n",
    "    \"\"\"\n",
    "    a = 1/(s)\n",
    "    b = (-np.abs(2*z))/(s)\n",
    "    p = a*np.exp(b)\n",
    "    return p\n",
    "\n",
    "def real_cdf(x, s, range_start, range_end):\n",
    "    \"\"\"\n",
    "    Compute the CDF of the CNN distribution\n",
    "    \n",
    "    Parameters\n",
    "    ----------\n",
    "    x : float, array_like\n",
    "        Input data.\n",
    "    s : float\n",
    "        Standard deviation of the input data.\n",
    "    range_start, range_end : float\n",
    "        Minimum and maximum value in the data.\n",
    "    \n",
    "    Return\n",
    "    -------\n",
    "    np.array(values) : array\n",
    "        Return the CDF.\n",
    "    \"\"\"\n",
    "    values = []\n",
    "    for value in x:\n",
    "        integral = integrate.quad(lambda k: real_pdf(k,s),range_start,value)[0]\n",
    "        normalized = integral/integrate.quad(lambda k: real_pdf(k,s),range_start,range_end)[0]\n",
    "        values.append(normalized)\n",
    "    return np.array(values)"
   ]
  },
  {
   "cell_type": "markdown",
   "metadata": {},
   "source": [
    "### 2.3 Distribution of the difference between two complex double Gaussian distributions ($\\Delta\\mathcal{CNN}$)"
   ]
  },
  {
   "cell_type": "code",
   "execution_count": null,
   "metadata": {},
   "outputs": [],
   "source": [
    "def null_pdf(x, s):    \n",
    "    \"\"\"\n",
    "    Compute the PDF of the delta delta CNN distribution\n",
    "    \n",
    "    Parameters\n",
    "    ----------\n",
    "    x : float, array_like\n",
    "        Input data.\n",
    "    s : float\n",
    "        Standard deviation of the input data.\n",
    "    \n",
    "    Return\n",
    "    -------\n",
    "    pdf : float, array_like\n",
    "        Return the PDF.\n",
    "    \"\"\"\n",
    "    pdf = (1/(2*s**2))*np.exp(-2*np.abs(x)/(s))*(s+2*np.abs(x))\n",
    "    return pdf\n",
    "\n",
    "def null_cdf(x, s, range_start, range_end):\n",
    "    \"\"\"\n",
    "    Compute the CDF of the delta CNN distribution\n",
    "    \n",
    "    Parameters\n",
    "    ----------\n",
    "    x : float, array_like\n",
    "        Input data.\n",
    "    s : float\n",
    "        Standard deviation of the input data.\n",
    "    range_start, range_end : float\n",
    "        Minimum and maximum value in the data.\n",
    "    \n",
    "    Return\n",
    "    -------\n",
    "    np.array(values) : array\n",
    "        Return the CDF.\n",
    "    \"\"\"\n",
    "    values = []\n",
    "    for value in x:\n",
    "        integral = integrate.quad(lambda k: null_pdf(k,s),range_start,value)[0]\n",
    "        normalized = integral/integrate.quad(lambda k: null_pdf(k,s),range_start,range_end)[0]\n",
    "        values.append(normalized)\n",
    "    return np.array(values)"
   ]
  },
  {
   "cell_type": "markdown",
   "metadata": {},
   "source": [
    "## 3. Define Bayesian model selection function"
   ]
  },
  {
   "cell_type": "code",
   "execution_count": null,
   "metadata": {},
   "outputs": [],
   "source": [
    "def bayes_factor_approx(data, m1, m2, num_bin='auto'):\n",
    "    \"\"\"\n",
    "    Estimate twice the log of bayes factor for a set of data fitted with two models.\n",
    "    \n",
    "    Parameters\n",
    "    ----------\n",
    "    data : array_like\n",
    "           Input data. The SIC is computed over the flattened array.\n",
    "    m1, m2 : callable\n",
    "           PDFs. For normal distribution PDF, use 'norm'.\n",
    "    num_bin : integer\n",
    "           Number of histogram bins. Default: 'auto'\n",
    "    \n",
    "    Returns\n",
    "    -------\n",
    "    s : float\n",
    "           Return the Schwarz criterion.\n",
    "    \"\"\"\n",
    "\n",
    "    # get normalized histogram data\n",
    "    y, x = np.histogram(data, bins=num_bin, density=True)\n",
    "    x = (x + np.roll(x, -1))[:-1] / 2.0  # taking the middle value between bin edges\n",
    "    \n",
    "    # fit the models to the histogramed data\n",
    "    popt1 = curve_fit(m1, x, y, p0=np.std(data))[0]\n",
    "    if m2 == 'norm':\n",
    "        popt2 = norm.fit(data)\n",
    "    else:\n",
    "        popt2 = curve_fit(m2, x, y, p0=np.std(data))[0]\n",
    "    \n",
    "    n = len(data)\n",
    "        \n",
    "    # compute S\n",
    "    bic1 = sum(np.log(m1(data, *popt1)))\n",
    "    if m2 == 'norm':\n",
    "        bic2 = sum(np.log(norm.pdf(data, *popt2)))\n",
    "    else:\n",
    "        bic2 = sum(np.log(m2(data, *popt2)))\n",
    "    p = (len(popt1)-len(popt2))/np.log(n)\n",
    "    \n",
    "    # estimate twice the log of Bayes factor\n",
    "    s = 2*(bic1-bic2-0.5*p)\n",
    "\n",
    "    return s"
   ]
  },
  {
   "cell_type": "markdown",
   "metadata": {},
   "source": [
    "## 4. Estimating twice the log of Bayes factors"
   ]
  },
  {
   "cell_type": "markdown",
   "metadata": {},
   "source": [
    "### 4.1 Fitting the $\\mathcal{CNN}$ or $\\mathcal{N}$ distribution to the data\n",
    "\n",
    "We take 51 data sets of different sizes from the power spectrum with clear features of reflection systematics (power1). We change the data size by increasing the upper limit of the delay range (+60ns/group) while fixing the lower limit (~1325 ns). The data are fitted with $\\mathcal{CNN}$ and $\\mathcal{N}$. We estimate twice the log of Bayes factor and performed the KS goodness-of-fit tests for each fitting. The Bayesian stats and KS stats are plotted as a function of the sample size."
   ]
  },
  {
   "cell_type": "code",
   "execution_count": null,
   "metadata": {},
   "outputs": [],
   "source": [
    "# estimating 2log(BF)\n",
    "bics = []\n",
    "size = []\n",
    "for i in range(51):\n",
    "    x = power1[:,107:118+i].flatten()    # change sample size for each loop\n",
    "    size.append(len(x))\n",
    "    bics.append(bayes_factor_approx(x, real_pdf, 'norm'))"
   ]
  },
  {
   "cell_type": "code",
   "execution_count": null,
   "metadata": {},
   "outputs": [],
   "source": [
    "# perform KS goodness-of-fit test\n",
    "norm_dn = []\n",
    "real_dn = []\n",
    "ks_cv = []\n",
    "\n",
    "for i in range(51):\n",
    "    data = power1[:,107:118+i].flatten()\n",
    "    npt = norm.fit(data)\n",
    "    norm_dn.append(stats.kstest(data, lambda x: gaus_cdf(x, npt[0], npt[1], \n",
    "                                                           min(data), max(data)))[0])\n",
    "\n",
    "    y, x = np.histogram(data, bins='auto', density=True)\n",
    "    x = (x + np.roll(x, -1))[:-1] / 2.0\n",
    "    popt = curve_fit(real_pdf, x, y, p0=np.std(data))[0]\n",
    "    real_dn.append(stats.kstest(data, lambda x: real_cdf(x, popt, min(data), max(data)))[0])   \n",
    "    \n",
    "    ks_cv.append(1.36/np.sqrt(len(data)))"
   ]
  },
  {
   "cell_type": "markdown",
   "metadata": {},
   "source": [
    "### 4.2 Fitting the $\\Delta\\mathcal{CNN}$ or $\\mathcal{N}$ distribution to the data\n",
    "\n",
    "Likewise, we have 51 data sets but with data being the differences between power spectra with and without clear systematic features and we fit the $\\Delta\\mathcal{CNN}$ or $\\mathcal{N}$ distribution to the data."
   ]
  },
  {
   "cell_type": "code",
   "execution_count": null,
   "metadata": {},
   "outputs": [],
   "source": [
    "# estimate 2log(BF)\n",
    "null_bics = []\n",
    "null_size = []\n",
    "for i in range(51):\n",
    "    x = power2[:,107:118+i].flatten() - power1[:,107:118+i].flatten()    # change sample size for each loop\n",
    "    null_size.append(len(x))\n",
    "    null_bics.append(bayes_factor_approx(x, null_pdf, 'norm'))"
   ]
  },
  {
   "cell_type": "code",
   "execution_count": null,
   "metadata": {},
   "outputs": [],
   "source": [
    "# perform KS goodness-of-fit test\n",
    "null_norm_dn = []\n",
    "null_dn = []\n",
    "null_ks_cv = []\n",
    "\n",
    "for i in range(51):\n",
    "    data = power2[:,107:118+i].flatten() - power1[:,107:118+i].flatten()\n",
    "    npt = norm.fit(data)\n",
    "    null_norm_dn.append(stats.kstest(data, lambda x: gaus_cdf(x, npt[0], npt[1], \n",
    "                                                           min(data), max(data)))[0])\n",
    "\n",
    "    y, x = np.histogram(data, bins='auto', density=True)\n",
    "    x = (x + np.roll(x, -1))[:-1] / 2.0\n",
    "    popt = curve_fit(null_pdf, x, y, p0=np.std(data))[0]\n",
    "    null_dn.append(stats.kstest(data, lambda x: null_cdf(x, popt, min(data), max(data)))[0])   \n",
    "    \n",
    "    null_ks_cv.append(1.36/np.sqrt(len(data)))"
   ]
  },
  {
   "cell_type": "markdown",
   "metadata": {},
   "source": [
    "## 5. Plotting KS test stats and 2log(*BF*) against data size"
   ]
  },
  {
   "cell_type": "code",
   "execution_count": null,
   "metadata": {},
   "outputs": [],
   "source": [
    "plt.figure(figsize=(13.5, 7))\n",
    "plt.subplots_adjust(hspace=.4, wspace=.3)\n",
    "\n",
    "# Bayesian model selection for comparison between CNN and N\n",
    "plt.subplot(221)\n",
    "plt.plot([size[0], size[-1]], [10, 10], 'k--', label=\"very strong\\nevidence\\nagainst $\\mathcal{N}$\")\n",
    "plt.plot(size, bics, 'g.', label=\"twice the log\\nof Bayes factors\")\n",
    "plt.xlabel(\"sample size\", fontsize=14)\n",
    "plt.ylabel(\"2S\", fontsize=14)\n",
    "plt.title(\"Bayesian model comparison between $\\mathcal{N}$ and $\\mathcal{CNN}$\", fontsize=14)\n",
    "plt.legend(loc='best', fontsize=12)\n",
    "plt.grid()\n",
    "\n",
    "# Bayesian model selection for comparison between delta CNN and N\n",
    "plt.subplot(222)\n",
    "plt.plot([size[0], size[-1]], [10, 10], 'k--', label=\"very strong\\nevidence\\nagainst $\\mathcal{N}$\")\n",
    "plt.plot(null_size, null_bics, 'g.', label=\"twice the log\\nof Bayes factors\")\n",
    "plt.xlabel(\"sample size\", fontsize=14)\n",
    "plt.ylabel(\"2S\", fontsize=14)\n",
    "plt.title(\"Bayesian model comparison between $\\mathcal{N}$ and $\\mathcal{\\Delta CNN}$\", fontsize=14)\n",
    "plt.legend(loc='best', fontsize=12)\n",
    "plt.grid()\n",
    "\n",
    "# KS goodness-of-fit test for comparison between CNN and N\n",
    "plt.subplot(223)\n",
    "plt.plot(size, ks_cv, 'k--', label=\"critical value\")\n",
    "plt.plot(size, norm_dn, '.', label=\"$\\mathcal{N}$ fit\")\n",
    "plt.plot(size, real_dn, '.', label=\"$\\mathcal{CNN}$ fit\")\n",
    "plt.xlabel(\"sample size\\n\\n(a) fit to high-delay power\", fontsize=14)\n",
    "plt.ylabel(\"D\", fontsize=14)\n",
    "plt.title(\"KS goodness of fit tests for $\\mathcal{N}$ and $\\mathcal{CNN}$\", fontsize=14)\n",
    "plt.legend(loc='best', fontsize=12)\n",
    "plt.grid()\n",
    "\n",
    "# KS goodness-of-fit test for comparison between delta CNN and N\n",
    "plt.subplot(224)\n",
    "plt.plot(null_size, null_ks_cv, 'k--', label=\"critical value\")\n",
    "plt.plot(null_size, null_norm_dn, '.', label=\"$\\mathcal{N}$ fit\")\n",
    "plt.plot(null_size, null_dn, '.', label=\"$\\Delta\\mathcal{CNN}$ fit\")\n",
    "plt.xlabel(\"sample size\\n\\n(b) fit to differences between high-delay power\", fontsize=14)\n",
    "plt.ylabel(\"D\", fontsize=14)\n",
    "plt.title(\"KS goodness of fit tests for $\\mathcal{N}$ and $\\Delta\\mathcal{CNN}$\", fontsize=14)\n",
    "plt.legend(loc='best', fontsize=12)\n",
    "plt.grid()\n",
    "\n",
    "plt.show()"
   ]
  }
 ],
 "metadata": {
  "kernelspec": {
   "display_name": "Python 3",
   "language": "python",
   "name": "python3"
  },
  "language_info": {
   "codemirror_mode": {
    "name": "ipython",
    "version": 3
   },
   "file_extension": ".py",
   "mimetype": "text/x-python",
   "name": "python",
   "nbconvert_exporter": "python",
   "pygments_lexer": "ipython3",
   "version": "3.7.3"
  }
 },
 "nbformat": 4,
 "nbformat_minor": 2
}
