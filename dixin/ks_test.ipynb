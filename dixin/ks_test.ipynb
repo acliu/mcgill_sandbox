{
 "cells": [
  {
   "cell_type": "markdown",
   "metadata": {},
   "source": [
    "## Kolmogorov–Smirnov test\n",
    "\n",
    "The Kolmogorov-Smirnov test (KS-test) is used to decide if a sample comes from a population with a specific distribution."
   ]
  },
  {
   "cell_type": "code",
   "execution_count": 1,
   "metadata": {},
   "outputs": [],
   "source": [
    "%matplotlib inline\n",
    "import numpy as np\n",
    "import matplotlib.pyplot as plt\n",
    "from scipy.optimize import curve_fit"
   ]
  },
  {
   "cell_type": "code",
   "execution_count": 2,
   "metadata": {},
   "outputs": [],
   "source": [
    "def ks_test(data, pdf, guess_args):\n",
    "    \"\"\"\n",
    "    H0: the data follow a given distribution\n",
    "    d < critical value (cv)  -->> accept H0\n",
    "    \n",
    "    Parameters\n",
    "    ----------\n",
    "    data: 1d array\n",
    "        empirical data \n",
    "    pdf: callable\n",
    "        probability density function\n",
    "    guess_args: float, 1d array\n",
    "        pdf parameters guess\n",
    "        \n",
    "    Returns\n",
    "    -------\n",
    "    d: float\n",
    "        KS-test stats\n",
    "    cv: float\n",
    "        critical value (Significance level:  α = 0.05)\n",
    "    m: Boolean\n",
    "        KS-test result: Accept H0 (True); reject H0 (False)\n",
    "    \"\"\"\n",
    "    \n",
    "    # get CDF of empirical data\n",
    "    counts, bin_edges = np.histogram (data, bins=len(data), density=True)\n",
    "    ecdf = np.cumsum(counts)/(np.cumsum(counts)[-1])\n",
    "    \n",
    "    # fit data to the model \n",
    "    y, x = np.histogram(data, bins='auto', density=True)\n",
    "    x = (x + np.roll(x, -1))[:-1] / 2.0\n",
    "    popt, pcov = curve_fit(pdf, x, y, p0=guess_args)\n",
    "    \n",
    "    # compute CDF from the fitted PDF\n",
    "    cdf_scaled = np.cumsum(pdf(bin_edges[1:], *popt))\n",
    "    cdf = cdf_scaled/cdf_scaled[-1]\n",
    "    \n",
    "    # perform KS-test\n",
    "    gaps = np.column_stack([cdf - ecdf, ecdf - cdf])\n",
    "    d = np.max(gaps)\n",
    "    cv = 1.36/np.sqrt(len(data))\n",
    "    \n",
    "    if d < cv:\n",
    "        m = True\n",
    "    if d > cv:\n",
    "        m = False\n",
    "    \n",
    "    return [d, cv, m]"
   ]
  },
  {
   "cell_type": "markdown",
   "metadata": {},
   "source": [
    "### Example 1\n",
    "Check if the simulated data follow a comple double Gaussian distribution, which is the real part of the product of two independent complex Gaussian distributions."
   ]
  },
  {
   "cell_type": "code",
   "execution_count": 3,
   "metadata": {},
   "outputs": [],
   "source": [
    "# generate CNN data z\n",
    "x = np.random.normal(size=(2, 1000)).view(np.complex128)\n",
    "z = x[0, :] * x[1, :]"
   ]
  },
  {
   "cell_type": "code",
   "execution_count": 4,
   "metadata": {},
   "outputs": [],
   "source": [
    "# define CNN PDF\n",
    "def real_pdf(z, s):\n",
    "    \"\"\"\n",
    "    Compute the PDF of the CNN distribution\n",
    "    \n",
    "    Parameters\n",
    "    ----------\n",
    "    z : float, array_like\n",
    "        Input data.\n",
    "    s : float\n",
    "        Standard deviation of the input data.\n",
    "    \n",
    "    Return\n",
    "    -------\n",
    "    p : float, array_like\n",
    "        Return the PDF.\n",
    "    \"\"\"\n",
    "    a = 1/(s)\n",
    "    b = (-np.abs(2*z))/(s)\n",
    "    p = a*np.exp(b)\n",
    "    return p"
   ]
  },
  {
   "cell_type": "code",
   "execution_count": 5,
   "metadata": {},
   "outputs": [
    {
     "name": "stdout",
     "output_type": "stream",
     "text": [
      "The KS-test stats $D_n$ is 0.055.\n",
      "The critical value (significance level 0.05) is 0.061.\n",
      "The data follow the given distribution.\n"
     ]
    }
   ],
   "source": [
    "# Perform KS-test\n",
    "d, cv, result = ks_test(z.real, real_pdf, 1)\n",
    "print(\"The KS-test stats $D_n$ is %.3f.\" % (d))\n",
    "print(\"The critical value (significance level 0.05) is %.3f.\" % (cv))\n",
    "if result:\n",
    "    print(\"The data follow the given distribution.\")\n",
    "else:\n",
    "    print(\"The data do not follow the given distribution.\")"
   ]
  },
  {
   "cell_type": "markdown",
   "metadata": {},
   "source": [
    "### Example 2\n",
    "Check if the simnulated data follow a distribution of the difference of two CNN distributions mentioned in Example 1."
   ]
  },
  {
   "cell_type": "code",
   "execution_count": 6,
   "metadata": {},
   "outputs": [],
   "source": [
    "# generate data n\n",
    "x = np.random.normal(size=(4, 1000)).view(np.complex128)\n",
    "n = (x[0, :]*x[1, :]).real - (x[2, :]*x[3, :]).real"
   ]
  },
  {
   "cell_type": "code",
   "execution_count": 7,
   "metadata": {},
   "outputs": [],
   "source": [
    "# define delta CNN PDF\n",
    "def null_pdf(x, s):    \n",
    "    \"\"\"\n",
    "    Compute the PDF of the delta delta CNN distribution\n",
    "    \n",
    "    Parameters\n",
    "    ----------\n",
    "    x : float, array_like\n",
    "        Input data.\n",
    "    s : float\n",
    "        Standard deviation of the input data.\n",
    "    \n",
    "    Return\n",
    "    -------\n",
    "    pdf : float, array_like\n",
    "        Return the PDF.\n",
    "    \"\"\"\n",
    "    pdf = (1/(2*s**2))*np.exp(-2*np.abs(x)/(s))*(s+2*np.abs(x))\n",
    "    return pdf"
   ]
  },
  {
   "cell_type": "code",
   "execution_count": 8,
   "metadata": {
    "scrolled": true
   },
   "outputs": [
    {
     "name": "stdout",
     "output_type": "stream",
     "text": [
      "The KS-test stats $D_n$ is 0.033.\n",
      "The critical value (significance level 0.05) is 0.061.\n",
      "The data follow the given distribution.\n"
     ]
    }
   ],
   "source": [
    "# Perform KS-test\n",
    "d, cv, result = ks_test(n, null_pdf, 1)\n",
    "print(\"The KS-test stats $D_n$ is %.3f.\" % (d))\n",
    "print(\"The critical value (significance level 0.05) is %.3f.\" % (cv))\n",
    "if result:\n",
    "    print(\"The data follow the given distribution.\")\n",
    "else:\n",
    "    print(\"The data do not follow the given distribution.\")"
   ]
  }
 ],
 "metadata": {
  "kernelspec": {
   "display_name": "Python 3",
   "language": "python",
   "name": "python3"
  },
  "language_info": {
   "codemirror_mode": {
    "name": "ipython",
    "version": 3
   },
   "file_extension": ".py",
   "mimetype": "text/x-python",
   "name": "python",
   "nbconvert_exporter": "python",
   "pygments_lexer": "ipython3",
   "version": "3.7.3"
  }
 },
 "nbformat": 4,
 "nbformat_minor": 2
}
