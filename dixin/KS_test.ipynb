{
 "cells": [
  {
   "cell_type": "code",
   "execution_count": 11,
   "metadata": {},
   "outputs": [],
   "source": [
    "%matplotlib inline\n",
    "import numpy as np\n",
    "import matplotlib.pyplot as plt\n",
    "from scipy.optimize import curve_fit\n",
    "from scipy import stats\n",
    "from scipy.stats import norm, kstest"
   ]
  },
  {
   "cell_type": "code",
   "execution_count": 12,
   "metadata": {},
   "outputs": [],
   "source": [
    "def plot_kstest(x, data, x_delay=False, alpha=0.05):\n",
    "    \"\"\"\n",
    "    H0: dist1 = dist2\n",
    "    d < critical value, p-value > alpha -->> accept H0\n",
    "    ------\n",
    "    x: 1d array (time, delay mode)\n",
    "    data: 2d array (visibility, power)\n",
    "    x_delay: is x axis delay? (default: False)\n",
    "    alpha: significance level (default: 0.05)\n",
    "    ------\n",
    "    Data matrix rows -->> time sample\n",
    "    Data matrix columns -->> frequency/delay mode\n",
    "    \"\"\"\n",
    "    \n",
    "    if x_delay:\n",
    "        data = np.transpose(data)\n",
    "    \n",
    "    # fit each dataset with a normal distribution\n",
    "    mu = []\n",
    "    std = []\n",
    "    for i in range(len(data)):\n",
    "        mu.append(norm.fit(data[i])[0])\n",
    "        std.append(norm.fit(data[i])[1])\n",
    "        \n",
    "    # get cdf of each dataset\n",
    "    cdf = []\n",
    "    for i in range(len(data)):\n",
    "        cdf.append(np.array(range(len(data[i])))/float(len(data[i])))\n",
    "    \n",
    "    # get cdf of each fit\n",
    "    norm_cdf = []\n",
    "    for i in range(len(data)):\n",
    "        norm_cdf.append(norm.cdf(np.sort(data[i]), mu[i], std[i]))\n",
    "    \n",
    "    # perform KS test between each empirical dataset with its corresponding normal distribution\n",
    "    # get d (KS statistic) and p-values\n",
    "    d = []\n",
    "    p = []\n",
    "    for i in range(len(data)):\n",
    "        d.append(stats.ks_2samp(cdf[i], norm_cdf[i])[0])\n",
    "        p.append(stats.ks_2samp(cdf[i], norm_cdf[i])[1])\n",
    "    \n",
    "    # get critical value (significance level = 0.05) (by the AD-test function)\n",
    "    cv = []\n",
    "    for i in range(len(data)):\n",
    "        cv.append(stats.anderson_ksamp([cdf[i], norm_cdf[i]])[1][2])\n",
    "    \n",
    "    # plot cdf if the number of datasets is small\n",
    "    if len(data) < 16:\n",
    "        plt.figure(figsize=(12, 12))\n",
    "        for i in range(1, len(cv)+1):\n",
    "            plt.subplot(6, 4, i)\n",
    "            i -= 1\n",
    "            plt.plot(np.sort(data[i]), norm_cdf[i],'b--')\n",
    "            plt.plot(np.sort(data[i]), cdf[i], 'r-')\n",
    "            plt.grid()\n",
    "    \n",
    "    # plot KS test results\n",
    "    fig, ax = plt.subplots(figsize=(12,8))\n",
    "    ax.plot\n",
    "    ax.plot(x, d, 'r-', label='KS statistics')\n",
    "    ax.plot\n",
    "    ax.plot(x, cv, 'b--', label='Critical values')\n",
    "    ax.grid()\n",
    "    ax.legend()\n",
    "    \n",
    "    # plot KS test results\n",
    "    plt.subplot(2, 1, 1)\n",
    "    plt.plot(x, [alpha for i in range(len(x))], 'k--', label='Significance level')\n",
    "    plt.plot(x, p, 'g-', label=\"p values\")\n",
    "    plt.legend()\n",
    "    plt.ylabel(\"Probability\", fontsize=14)\n",
    "    if x_delay:\n",
    "        plt.title(\"Kolmogorov-Smirnov Test byDelay Mode \")\n",
    "    else:\n",
    "        plt.title(\"Kolmogorov-Smirnov Test by Time Sample\")\n",
    "    plt.grid()\n",
    "    plt.subplot(2, 1, 2)\n",
    "    plt.plot(x, cv, 'b--', label='Critical values')\n",
    "    plt.plot(x, d, 'r-', label='KS statistics')\n",
    "    plt.legend()\n",
    "    plt.ylabel(\"Statistics\", fontsize=14)\n",
    "    if x_delay:\n",
    "        plt.xlabel(\"Delay (ns)\", fontsize=14)\n",
    "    else:\n",
    "        plt.xlabel(\"Time sample\", fontsize=14)\n",
    "    plt.grid()\n",
    "    plt.show()"
   ]
  },
  {
   "cell_type": "code",
   "execution_count": null,
   "metadata": {},
   "outputs": [
    {
     "name": "stderr",
     "output_type": "stream",
     "text": [
      "/anaconda3/lib/python3.7/site-packages/ipykernel_launcher.py:46: UserWarning: p-value capped: true value larger than 0.25\n"
     ]
    }
   ],
   "source": [
    "# \"plot_kstest\" example\n",
    "\n",
    "data = []\n",
    "std = np.abs(np.random.normal(0, 100, 12))\n",
    "for i in range(12):\n",
    "    data.append(np.random.normal(0, std[i], 100))\n",
    "x = np.linspace(0, len(data)-1, len(data))\n",
    "plot_kstest(x, data)"
   ]
  }
 ],
 "metadata": {
  "kernelspec": {
   "display_name": "Python 3",
   "language": "python",
   "name": "python3"
  },
  "language_info": {
   "codemirror_mode": {
    "name": "ipython",
    "version": 3
   },
   "file_extension": ".py",
   "mimetype": "text/x-python",
   "name": "python",
   "nbconvert_exporter": "python",
   "pygments_lexer": "ipython3",
   "version": "3.7.3"
  }
 },
 "nbformat": 4,
 "nbformat_minor": 2
}
