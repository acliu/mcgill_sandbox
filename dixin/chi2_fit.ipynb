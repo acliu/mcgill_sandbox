{
 "cells": [
  {
   "cell_type": "code",
   "execution_count": 422,
   "metadata": {},
   "outputs": [],
   "source": [
    "%matplotlib inline\n",
    "from pyuvdata import UVData\n",
    "import hera_pspec as hp\n",
    "import numpy as np\n",
    "from scipy.stats import lognorm, chi2, norm\n",
    "from scipy.optimize import curve_fit\n",
    "import matplotlib.pyplot as plt\n",
    "import copy, os, itertools, inspect\n",
    "from hera_pspec.data import DATA_PATH"
   ]
  },
  {
   "cell_type": "code",
   "execution_count": 423,
   "metadata": {},
   "outputs": [
    {
     "name": "stderr",
     "output_type": "stream",
     "text": [
      "Telescope eorsky is not in known_telescopes.\n"
     ]
    },
    {
     "name": "stdout",
     "output_type": "stream",
     "text": [
      "[(0, 11), (0, 12), (11, 12)]\n",
      "3 384 1 982\n"
     ]
    }
   ],
   "source": [
    "dfile = os.path.join(DATA_PATH, 'eorsky_3.00hours_Nside128_sigma0.03_fwhm12.13_uv.uvh5')\n",
    "uvd = UVData()\n",
    "uvd.read(dfile)\n",
    "print(uvd.get_antpairs())\n",
    "print(uvd.Nbls,uvd.Nfreqs, uvd.Nspws, uvd.Ntimes)\n",
    "# print(dir(uvd)) "
   ]
  },
  {
   "cell_type": "code",
   "execution_count": 424,
   "metadata": {},
   "outputs": [
    {
     "name": "stdout",
     "output_type": "stream",
     "text": [
      "Cosmo_Conversions object at <0x1c213819b0>\n",
      "Om_L : 0.6844; Om_b : 0.0491; Om_c : 0.2644; Om_M : 0.3135; Om_k : 0.0021; H0 : 67.2700\n"
     ]
    }
   ],
   "source": [
    "cosmo = hp.conversions.Cosmo_Conversions()\n",
    "print(cosmo)"
   ]
  },
  {
   "cell_type": "code",
   "execution_count": 425,
   "metadata": {},
   "outputs": [],
   "source": [
    "# Creating the beamfile\n",
    "beam_freqs = uvd.freq_array # in Hz\n",
    "uvb = hp.PSpecBeamGauss(fwhm=0.21170844, beam_freqs=beam_freqs[0])"
   ]
  },
  {
   "cell_type": "code",
   "execution_count": 426,
   "metadata": {},
   "outputs": [],
   "source": [
    "# Converting units\n",
    "Jy_to_mK = uvb.Jy_to_mK(np.unique(uvd.freq_array), pol='pI')\n",
    "uvd.data_array *= Jy_to_mK[None, None, :, None]"
   ]
  },
  {
   "cell_type": "code",
   "execution_count": 427,
   "metadata": {},
   "outputs": [],
   "source": [
    "# slide the time axis of uvd by one integration\n",
    "uvd1 = uvd.select(times=np.unique(uvd.time_array)[:-1:2], inplace=False)         #even\n",
    "uvd2 = uvd.select(times=np.unique(uvd.time_array)[1::2], inplace=False)          #odd\n",
    "\n",
    "# Create a new PSpecData object, and don't forget to feed the beam object\n",
    "ds = hp.PSpecData(dsets=[uvd1, uvd2], wgts=[None, None], beam=uvb)"
   ]
  },
  {
   "cell_type": "code",
   "execution_count": 428,
   "metadata": {},
   "outputs": [],
   "source": [
    "ds.rephase_to_dset(0)"
   ]
  },
  {
   "cell_type": "code",
   "execution_count": 429,
   "metadata": {},
   "outputs": [],
   "source": [
    "# change units of UVData objects\n",
    "ds.dsets[0].vis_units = 'mK'\n",
    "ds.dsets[1].vis_units = 'mK'"
   ]
  },
  {
   "cell_type": "code",
   "execution_count": 430,
   "metadata": {},
   "outputs": [],
   "source": [
    "# Specify which baselines to include\n",
    "baselines = [(0, 11)]"
   ]
  },
  {
   "cell_type": "code",
   "execution_count": 431,
   "metadata": {},
   "outputs": [
    {
     "name": "stdout",
     "output_type": "stream",
     "text": [
      "\n",
      "Setting spectral range: (0, 300)\n",
      "\n",
      "Using polarization pair: ('pI', 'pI')\n",
      "\n",
      "(bl1, bl2) pair: ((0, 11), (0, 11))\n",
      "pol: (1, 1)\n",
      "  Building G...\n",
      "  Building q_hat...\n",
      "  Normalizing power spectrum...\n",
      "  Computing and multiplying scalar...\n"
     ]
    }
   ],
   "source": [
    "# Define uvp\n",
    "# Polarization pairs for this specific simulation data is 'pI'\n",
    "# spw_range length = number of delays\n",
    "uvp = ds.pspec(baselines, baselines, (0, 1), [('pI', 'pI')], spw_ranges=[(0, 300)],  \n",
    "               input_data_weight='identity',\n",
    "               norm='I', taper='blackman-harris', verbose=True)"
   ]
  },
  {
   "cell_type": "code",
   "execution_count": 432,
   "metadata": {},
   "outputs": [],
   "source": [
    "# return the nearest delay (in the dlys array) from the rough input delay\n",
    "def get_delay(dly, key):\n",
    "    dlys = uvp.get_dlys(key[0]) * 1e9\n",
    "    dlys = np.asarray(dlys)\n",
    "    idx = (np.abs(dlys - dly)).argmin()\n",
    "    return dlys[idx]\n",
    "\n",
    "def get_dly_ind(i_dly, f_dly, key):\n",
    "    power = np.real(uvp.get_data(key))\n",
    "    ini_dly = get_delay(i_dly, key)\n",
    "    fin_dly = get_delay(f_dly, key)\n",
    "    dlys = uvp.get_dlys(key[0]) * 1e9\n",
    "    i_index = int(np.where(dlys == ini_dly)[0])\n",
    "    f_index = int(np.where(dlys == fin_dly)[0])\n",
    "    return i_index, f_index"
   ]
  },
  {
   "cell_type": "code",
   "execution_count": 433,
   "metadata": {},
   "outputs": [],
   "source": [
    "spw = 0\n",
    "blp = ((0, 11), (0, 11))\n",
    "pol = ('pI', 'pI')\n",
    "key = (spw, blp, pol)\n",
    "dlys = uvp.get_dlys(spw) * 1e9\n",
    "power = np.abs(np.real(uvp.get_data(key)))"
   ]
  },
  {
   "cell_type": "code",
   "execution_count": 434,
   "metadata": {},
   "outputs": [],
   "source": [
    "data = power[0:201][:,get_dly_ind(1000, 4000, key)[0]:get_dly_ind(1000, 4000, key)[1]]\n",
    "\n",
    "x = []\n",
    "data = np.transpose(data)\n",
    "for i in range(len(data)):\n",
    "    a = data[i][0]\n",
    "    for j in range(len(data[i])-1):\n",
    "        a += data[i][j]\n",
    "    x.append(a)"
   ]
  },
  {
   "cell_type": "code",
   "execution_count": 435,
   "metadata": {},
   "outputs": [],
   "source": [
    "popt = stats.chi2.fit(x, 200, loc=1e8, scale=1e8)"
   ]
  },
  {
   "cell_type": "code",
   "execution_count": 436,
   "metadata": {},
   "outputs": [
    {
     "data": {
      "text/plain": [
       "(array([8.50275768e-10, 1.70055154e-09, 1.51160137e-09, 1.32265120e-09,\n",
       "        2.83425256e-10, 4.72375427e-10, 9.44750854e-11, 0.00000000e+00,\n",
       "        3.77900342e-10, 0.00000000e+00, 9.44750854e-11]),\n",
       " array([7.94845175e+07, 2.28566225e+08, 3.77647932e+08, 5.26729640e+08,\n",
       "        6.75811347e+08, 8.24893055e+08, 9.73974762e+08, 1.12305647e+09,\n",
       "        1.27213818e+09, 1.42121988e+09, 1.57030159e+09, 1.71938330e+09]),\n",
       " <a list of 11 Patch objects>)"
      ]
     },
     "execution_count": 436,
     "metadata": {},
     "output_type": "execute_result"
    },
    {
     "data": {
      "image/png": "[encoded data removed]",
      "text/plain": [
       "<Figure size 432x288 with 1 Axes>"
      ]
     },
     "metadata": {
      "needs_background": "light"
     },
     "output_type": "display_data"
    }
   ],
   "source": [
    "fit_x = np.linspace(0, np.sort(x)[-1], 1000)\n",
    "plt.plot(fit_x, stats.chi2.pdf(fit_x, popt[0], loc=popt[1], scale=popt[2]))\n",
    "plt.hist(x, bins='auto', density=True)"
   ]
  }
 ],
 "metadata": {
  "kernelspec": {
   "display_name": "Python 3",
   "language": "python",
   "name": "python3"
  },
  "language_info": {
   "codemirror_mode": {
    "name": "ipython",
    "version": 3
   },
   "file_extension": ".py",
   "mimetype": "text/x-python",
   "name": "python",
   "nbconvert_exporter": "python",
   "pygments_lexer": "ipython3",
   "version": "3.7.3"
  }
 },
 "nbformat": 4,
 "nbformat_minor": 2
}
