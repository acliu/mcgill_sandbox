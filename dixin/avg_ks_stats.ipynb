{
 "cells": [
  {
   "cell_type": "markdown",
   "metadata": {},
   "source": [
    "# Averaging Kolmogorov-Smirnov test statistics by baselines\n",
    "\n",
    "This notebook computes the averaged Kolmogorov-Smirnov test (KS test) statistics and plots the averaged KS stats as a function of sample size. "
   ]
  },
  {
   "cell_type": "code",
   "execution_count": null,
   "metadata": {},
   "outputs": [],
   "source": [
    "%matplotlib notebook\n",
    "import matplotlib.pyplot as plt\n",
    "import numpy as np\n",
    "from pyuvdata import UVData\n",
    "import hera_pspec as hp\n",
    "from scipy import stats\n",
    "from scipy.optimize import curve_fit\n",
    "import operator\n",
    "from scipy import integrate, stats\n",
    "from scipy.stats import norm"
   ]
  },
  {
   "cell_type": "code",
   "execution_count": null,
   "metadata": {},
   "outputs": [],
   "source": [
    "# Load data into UVData objects\n",
    "dfile = 'zen.2458101.clean-002.uvh5'\n",
    "uvd = UVData()\n",
    "uvd.read(dfile)"
   ]
  },
  {
   "cell_type": "code",
   "execution_count": null,
   "metadata": {},
   "outputs": [],
   "source": [
    "# get all the baseline pairs\n",
    "bls = {}\n",
    "for i in range(len(uvd.get_antpairs())):\n",
    "    bls[i] = (uvd.get_antpairs()[i][0], uvd.get_antpairs()[i][1], 'xx')"
   ]
  },
  {
   "cell_type": "code",
   "execution_count": null,
   "metadata": {},
   "outputs": [],
   "source": [
    "# define spectral window\n",
    "chan = [520, 690]\n",
    "\n",
    "# create visibility data dictionary for this frequency range and filter out flagged visbilities\n",
    "vis = {}\n",
    "for i in range(len(bls)):\n",
    "    vis[bls[i]] = uvd.get_data([bls[i]])[16:46,chan[0]:chan[1]] * ~uvd.get_flags([bls[i]])[16:46,chan[0]:chan[1]]"
   ]
  },
  {
   "cell_type": "code",
   "execution_count": null,
   "metadata": {},
   "outputs": [],
   "source": [
    "# remove data with zero visibilities\n",
    "vis = {x:y for x,y in vis.items() if y[0][0]!=0}\n",
    "# get a new array of baselines after zero visibilities removed\n",
    "bls = list(vis.keys())\n",
    "\n",
    "# get baselines of all the cross-correlation visibilities\n",
    "non_auto_bls = []\n",
    "for i in range(len(vis)):\n",
    "    if bls[i][0] == bls[i][1]:\n",
    "        continue\n",
    "    else:\n",
    "        non_auto_bls.append(bls[i])"
   ]
  },
  {
   "cell_type": "code",
   "execution_count": null,
   "metadata": {},
   "outputs": [],
   "source": [
    "# Load beam model\n",
    "beamfile = 'HERA_NF_dipole_power.beamfits'\n",
    "cosmo = hp.conversions.Cosmo_Conversions()\n",
    "uvb = hp.pspecbeam.PSpecBeamUV(beamfile, cosmo=cosmo)\n",
    "\n",
    "# find conversion factor from Jy to mK\n",
    "Jy_to_mK = uvb.Jy_to_mK(np.unique(uvd.freq_array), pol='xx')\n",
    "uvd.data_array *= Jy_to_mK[None, None, :, None]"
   ]
  },
  {
   "cell_type": "code",
   "execution_count": null,
   "metadata": {},
   "outputs": [],
   "source": [
    "# slide the time axis by one integration\n",
    "uvd1 = uvd.select(times=np.unique(uvd.time_array)[16:44:2], inplace=False)\n",
    "uvd2 = uvd.select(times=np.unique(uvd.time_array)[17:45:2], inplace=False)"
   ]
  },
  {
   "cell_type": "code",
   "execution_count": null,
   "metadata": {},
   "outputs": [],
   "source": [
    "# Create a new PSpecData object\n",
    "ds = hp.PSpecData(dsets=[uvd1, uvd2], wgts=[None, None], beam=uvb)\n",
    "ds.rephase_to_dset(0)"
   ]
  },
  {
   "cell_type": "markdown",
   "metadata": {},
   "source": [
    "The following cell creats arrays to index in the non_auto_bls array in order to select baselines with prominent features of cable reflection in their power spectra. The indexes were identified manually (by eyes) from all cross-correlation auto-baseline power spectra in data set 'zen.2458101.clean-002.uvh5'. "
   ]
  },
  {
   "cell_type": "code",
   "execution_count": null,
   "metadata": {},
   "outputs": [],
   "source": [
    "# get non_auto_bls array index of baselines with clear sys. features in their pspec\n",
    "idx_ref = [33, 35, 36, 37, 47, 48, 49, 72, 73, 74, 75]\n",
    "\n",
    "# by subtracting the elements, idx_ctr (which stands for 'index_control') is a control group of baselines\n",
    "# without clear sys. features in their pspec\n",
    "idx_ctr = list(set(np.arange(0, len(non_auto_bls)))-set(idx_ref))[:len(idx_ref)]"
   ]
  },
  {
   "cell_type": "code",
   "execution_count": null,
   "metadata": {},
   "outputs": [],
   "source": [
    "# create arrays of baselines for cross-correlation visibilities\n",
    "\n",
    "# ref = reflection -> with clear sys. features in pspec\n",
    "# ctr = control -> without clear sys. features in pspec\n",
    "\n",
    "c_bls_ref = []\n",
    "c_bls_ctr = []\n",
    "for i in range(len(idx_ref)):\n",
    "    c_bls_ref.append(non_auto_bls[idx_ref[i]])\n",
    "for i in range(len(idx_ctr)):\n",
    "    c_bls_ctr.append(non_auto_bls[idx_ctr[i]])"
   ]
  },
  {
   "cell_type": "code",
   "execution_count": null,
   "metadata": {},
   "outputs": [],
   "source": [
    "# estimate 11 power spectra with clear sys. features\n",
    "power_ref = {}\n",
    "key_ref = {}\n",
    "for i in range(len(c_bls_ref)):\n",
    "    uvp = ds.pspec([c_bls_ref[i][:2]], [c_bls_ref[i][:2]], (0, 1), [('xx', 'xx')], spw_ranges=[(520, 690)],  \n",
    "               input_data_weight='identity',\n",
    "               norm='I', taper='blackman-harris', verbose=False)\n",
    "    blp = (c_bls_ref[i][:2], c_bls_ref[i][:2])\n",
    "    a = (0, blp, 'xx')\n",
    "    key_ref[i] = a\n",
    "    power_ref[i] = np.real(uvp.get_data(a))"
   ]
  },
  {
   "cell_type": "code",
   "execution_count": null,
   "metadata": {},
   "outputs": [],
   "source": [
    "# estimate 11 power spectra with clear sys. features\n",
    "power_ctr = {}\n",
    "key_ctr = {}\n",
    "for i in range(len(c_bls_ctr)):\n",
    "    uvp = ds.pspec([c_bls_ctr[i][:2]], [c_bls_ctr[i][:2]], (0, 1), [('xx', 'xx')], spw_ranges=[(520, 690)],  \n",
    "               input_data_weight='identity',\n",
    "               norm='I', taper='blackman-harris', verbose=False)\n",
    "    blp = (c_bls_ctr[i][:2], c_bls_ctr[i][:2])\n",
    "    a = (0, blp, 'xx')\n",
    "    key_ctr[i] = a\n",
    "    power_ctr[i] = np.real(uvp.get_data(a))"
   ]
  },
  {
   "cell_type": "code",
   "execution_count": null,
   "metadata": {},
   "outputs": [],
   "source": [
    "# get delay modes\n",
    "dlys = uvp.get_dlys(0) * 1e9"
   ]
  },
  {
   "cell_type": "code",
   "execution_count": null,
   "metadata": {},
   "outputs": [],
   "source": [
    "# plot the time-averaged pspec to check if they are indeed with/without clear sys. features\n",
    "for i in range(len(power_ref)):\n",
    "    plt.figure(figsize=(4, 3))\n",
    "    plt.semilogy(dlys, np.abs(np.mean(power_ref[i],axis=0)))\n",
    "    plt.title(str(i))\n",
    "    plt.show()"
   ]
  },
  {
   "cell_type": "code",
   "execution_count": null,
   "metadata": {},
   "outputs": [],
   "source": [
    "power = {0:power_ctr, 1:power_ref}\n",
    "key = {0:key_ctr, 1:key_ref}"
   ]
  },
  {
   "cell_type": "markdown",
   "metadata": {},
   "source": [
    "Define PDF and CDF of models ($\\mathcal{CNN}$, $\\Delta\\mathcal{CNN}$ and $\\mathcal{N}$)"
   ]
  },
  {
   "cell_type": "code",
   "execution_count": null,
   "metadata": {},
   "outputs": [],
   "source": [
    "def real_pdf(z, s):\n",
    "    a = 1/(s)\n",
    "    b = (-np.abs(2*z))/(s)\n",
    "    return a*np.exp(b)\n",
    "\n",
    "def real_cdf(x, s, range_start, range_end):\n",
    "    values = []\n",
    "    for value in x:\n",
    "        integral = integrate.quad(lambda k: real_pdf(k,s),range_start,value)[0]\n",
    "        normalized = integral/integrate.quad(lambda k: real_pdf(k,s),range_start,range_end)[0]\n",
    "        values.append(normalized)\n",
    "    return np.array(values)\n",
    "\n",
    "def null_pdf(x, s):\n",
    "    return (1/(2*s**2))*np.exp(-2*np.abs(x)/(s))*(s+2*np.abs(x))\n",
    "\n",
    "def null_cdf(x, s, range_start, range_end):\n",
    "    values = []\n",
    "    for value in x:\n",
    "        integral = integrate.quad(lambda k: null_pdf(k,s),range_start,value)[0]\n",
    "        normalized = integral/integrate.quad(lambda k: null_pdf(k,s),range_start,range_end)[0]\n",
    "        values.append(normalized)\n",
    "    return np.array(values)\n",
    "\n",
    "def gaussian(x, mu, sig):\n",
    "    return np.exp(-np.power(x - mu, 2.) / (2 * np.power(sig, 2.)))\n",
    "\n",
    "def gaus_cdf(x, mu, sig, range_start, range_end):\n",
    "    values = []\n",
    "    for value in x:\n",
    "        integral = integrate.quad(lambda k: gaussian(k, mu, sig),range_start,value)[0]\n",
    "        normalized = integral/integrate.quad(lambda k: gaussian(k, mu, sig),range_start,range_end)[0]\n",
    "        values.append(normalized)\n",
    "    return np.array(values)"
   ]
  },
  {
   "cell_type": "code",
   "execution_count": null,
   "metadata": {},
   "outputs": [],
   "source": [
    "def ks_test(dly1, dly2, p, avg='no', fit_norm=False):\n",
    "    # get delay mode index\n",
    "    dly_modes = [dly1, dly2] # ns\n",
    "    dly_idx = [(np.abs(dlys - dly_modes[0])).argmin(), (np.abs(dlys - dly_modes[1])).argmin()]\n",
    "\n",
    "    # get high-delay power\n",
    "    if avg == 'no':\n",
    "        data = p[:,dly_idx[0]:dly_idx[1]].flatten()\n",
    "    elif avg == 'time':\n",
    "        data = np.mean(p[:,dly_idx[0]:dly_idx[1]], axis=0)\n",
    "    elif avg == 'delay':\n",
    "        data = np.mean(p[:,dly_idx[0]:dly_idx[1]], axis=1)\n",
    "\n",
    "   # KS test (norm) \n",
    "    if fit_norm:\n",
    "        npt = norm.fit(data)\n",
    "        norm_dn = stats.kstest(data, lambda x: gaus_cdf(x, npt[0], npt[1], min(data), max(data)))[0]\n",
    "           \n",
    "    # KS test (cnn)\n",
    "    y, x = np.histogram(data, bins=15, density=True)\n",
    "    x = (x + np.roll(x, -1))[:-1] / 2.0\n",
    "    popt = curve_fit(real_pdf, x, y, p0=np.std(data))[0]\n",
    "    cnn_dn = stats.kstest(data,lambda x: real_cdf(x, popt, min(data), max(data)))[0]\n",
    "    \n",
    "    # get KS test critical value at the 5% level of significance\n",
    "    cv = 1.36/np.sqrt(len(data))\n",
    "    \n",
    "    if fit_norm:\n",
    "        a = [cnn_dn, cv, norm_dn]\n",
    "    else:\n",
    "        a = [cnn_dn, cv]\n",
    "    return a\n",
    "\n",
    "def null_ks_test(dly1, dly2, p1, p2, avg='no', fit_norm=False):\n",
    "    # get delay mode index\n",
    "    dly_modes = [dly1, dly2] # ns\n",
    "    dly_idx = [(np.abs(dlys - dly_modes[0])).argmin(), (np.abs(dlys - dly_modes[1])).argmin()]\n",
    "\n",
    "    # get high-delay power\n",
    "    if avg == 'no':\n",
    "        data1 = p1[:,dly_idx[0]:dly_idx[1]].flatten()\n",
    "        data2 = p2[:,dly_idx[0]:dly_idx[1]].flatten()\n",
    "    elif avg == 'time':\n",
    "        data1 = np.mean(p1[:,dly_idx[0]:dly_idx[1]], axis=0)\n",
    "        data2 = np.mean(p2[:,dly_idx[0]:dly_idx[1]], axis=0)\n",
    "    elif avg == 'delay':\n",
    "        data1 = np.mean(p1[:,dly_idx[0]:dly_idx[1]], axis=1)\n",
    "        data2 = np.mean(p2[:,dly_idx[0]:dly_idx[1]], axis=1)\n",
    "    \n",
    "    # null test\n",
    "    data = data1 - data2\n",
    "    \n",
    "    # KS test (norm) \n",
    "    if fit_norm:\n",
    "        npt = norm.fit(data)\n",
    "        norm_dn = stats.kstest(data, lambda x: gaus_cdf(x, npt[0], npt[1], min(data), max(data)))[0]\n",
    "           \n",
    "    # KS test (cnn)\n",
    "    y, x = np.histogram(data, bins=15, density=True)\n",
    "    x = (x + np.roll(x, -1))[:-1] / 2.0\n",
    "    popt = curve_fit(null_pdf, x, y, p0=np.std(data))[0]\n",
    "    dcnn_dn = stats.kstest(data,lambda x: null_cdf(x, popt, min(data), max(data)))[0]\n",
    "    \n",
    "    # get KS test critical value at the 5% level of significance\n",
    "    cv = 1.36/np.sqrt(len(data))\n",
    "    \n",
    "    if fit_norm:\n",
    "        a = [dcnn_dn, cv, norm_dn]\n",
    "    else:\n",
    "        a = [dcnn_dn, cv]\n",
    "    return a"
   ]
  },
  {
   "cell_type": "markdown",
   "metadata": {},
   "source": [
    "### Averaging Kolmogorov-Smirnov test statistics for $\\mathcal{CNN}$ fitting with fixed data size"
   ]
  },
  {
   "cell_type": "markdown",
   "metadata": {},
   "source": [
    "Perform KS test for each power spectrum"
   ]
  },
  {
   "cell_type": "code",
   "execution_count": null,
   "metadata": {},
   "outputs": [],
   "source": [
    "ks_stats_ctr = {}\n",
    "for i in range(len(power_ctr)):\n",
    "    ks_stats_ctr[i] = ks_test(2000, 4000, power_ctr[i], fit_norm=True)"
   ]
  },
  {
   "cell_type": "code",
   "execution_count": null,
   "metadata": {},
   "outputs": [],
   "source": [
    "ks_stats_ref = {}\n",
    "for i in range(len(power_ref)):\n",
    "    ks_stats_ref[i] = ks_test(2000, 4000, power_ref[i], fit_norm=True)"
   ]
  },
  {
   "cell_type": "markdown",
   "metadata": {},
   "source": [
    "Compute the average value of 11$\\times$2 KS stats and its standard error"
   ]
  },
  {
   "cell_type": "code",
   "execution_count": null,
   "metadata": {},
   "outputs": [],
   "source": [
    "# # for data from pspec without clear sys. features fitted with Gaussian\n",
    "# avg_norm_dn_ctr = np.mean(np.asarray(list(ks_stats_ctr.values()))[:, 2])\n",
    "# err_norm_dn_ctr = np.std(np.asarray(list(ks_stats_ctr.values()))[:, 2])/len(ks_stats_ctr)\n",
    "\n",
    "# # for data from pspec with clear sys. features fitted with Gaussian\n",
    "# avg_norm_dn_ref = np.mean(np.asarray(list(ks_stats_ref.values()))[:, 2])\n",
    "# err_norm_dn_ref = np.std(np.asarray(list(ks_stats_ref.values()))[:, 2])/len(ks_stats_ref)\n",
    "\n",
    "# for data from pspec without clear sys. features fitted with CNN\n",
    "avg_cnn_dn_ctr = np.mean(np.asarray(list(ks_stats_ctr.values()))[:, 0])\n",
    "err_cnn_dn_ctr = np.std(np.asarray(list(ks_stats_ctr.values()))[:, 0])/len(ks_stats_ctr)\n",
    "\n",
    "# for data from pspec with clear sys. features fitted with CNN\n",
    "avg_cnn_dn_ref = np.mean(np.asarray(list(ks_stats_ref.values()))[:, 0])\n",
    "err_cnn_dn_ref = np.std(np.asarray(list(ks_stats_ref.values()))[:, 0])/len(ks_stats_ref)\n",
    "\n",
    "# compute critical value (alpha = 5%)\n",
    "cv = np.asarray(list(ks_stats_ctr.values()))[:, 1][0]"
   ]
  },
  {
   "cell_type": "markdown",
   "metadata": {},
   "source": [
    "Plot the results"
   ]
  },
  {
   "cell_type": "code",
   "execution_count": null,
   "metadata": {
    "scrolled": false
   },
   "outputs": [],
   "source": [
    "plt.figure(figsize=(8, 4))\n",
    "plt.plot([0.5, 2.5], [cv, cv], '--', label = 'critical value ($α$=5%)')\n",
    "plt.errorbar([1, 2], [avg_norm_dn_ref, avg_norm_dn_ctr], [err_norm_dn_ref, err_norm_dn_ctr], \n",
    "            color = 'green', fmt = '.',markersize = '4', ecolor = 'green', capsize = 2, \n",
    "            elinewidth = 0.5, markeredgewidth = 0.5, label = '$\\mathcal{N}$ fit')\n",
    "plt.errorbar([1, 2], [avg_cnn_dn_ref, avg_cnn_dn_ctr], [err_norm_dn_ref, err_norm_dn_ctr], \n",
    "            color = 'red', fmt = '.',markersize = '4', ecolor = 'red', capsize = 2, \n",
    "            elinewidth = 0.5, markeredgewidth = 0.5, label = '$\\mathcal{CNN}$ fit')\n",
    "plt.xticks([1, 2], ['with clear sys. features', 'without clear sys. features'], fontsize=14, rotation=0)\n",
    "plt.grid(linestyle='dotted')\n",
    "plt.legend(loc=5, fontsize=10)\n",
    "plt.ylabel('Avg. KS test stats $D$', fontsize=14)\n",
    "plt.title('KS tests for multiple pairs of baselines', fontsize=14)\n",
    "plt.show()"
   ]
  },
  {
   "cell_type": "markdown",
   "metadata": {},
   "source": [
    "### Averaging Kolmogorov-Smirnov test statistics for $\\Delta\\mathcal{CNN}$ fitting with fixed data size"
   ]
  },
  {
   "cell_type": "markdown",
   "metadata": {},
   "source": [
    "We have:\n",
    "    * Group 1 : 11 pspec with clear cable reflection features\n",
    "    * Group 2 : 11 pspec without clear cable reflection features\n",
    "    * Group 3 : 11 pspec in Group 2 but shifted by one index -- for example, group2 = [ps1, ps2, ps3], then group3 = [ps2, ps3, ps1]\n",
    "\n",
    "Step 1: construct null tests by:\n",
    "    * the nth pspec (2000-3000ns) in Group 1 - the nth pspec (2000-3000ns) in Group 2 = differences 1\n",
    "    * the nth pspec (2000-3000ns) in Group 2 - the nth pspec (2000-3000ns) in Group 3 = differences 2\n",
    "\n",
    "Step 2: Fit the Gaussian distribution and the $\\Delta\\mathcal{CNN}$ distribution with differences 1 & 2.\n",
    "\n",
    "Step 3: Perform KS goodness-of-fit test for each fit.\n",
    "\n",
    "Step 4: Average KS stats in each group and compute standard errors."
   ]
  },
  {
   "cell_type": "code",
   "execution_count": null,
   "metadata": {},
   "outputs": [],
   "source": [
    "# create Group 3 by shifting the elements in the Group 2\n",
    "from itertools import cycle, islice\n",
    "def shift(d, n):\n",
    "    return dict(zip(d, islice(cycle(d.values()), n, None)))\n",
    "\n",
    "power_ctr2 = shift(power_ctr, 1)"
   ]
  },
  {
   "cell_type": "code",
   "execution_count": null,
   "metadata": {},
   "outputs": [],
   "source": [
    "# null + KS tests between Group 1 and Group 2\n",
    "null_ks_ctr = {}\n",
    "for i in range(len(power_ctr)):\n",
    "    null_ks_ctr[i] = null_ks_test(2000, 3000, power_ctr[i], power_ctr2[i], avg='no', fit_norm=True)"
   ]
  },
  {
   "cell_type": "code",
   "execution_count": null,
   "metadata": {},
   "outputs": [],
   "source": [
    "# null + KS tests between Group 2 and Group 3\n",
    "null_ks_ref = {}\n",
    "for i in range(len(power_ref)):\n",
    "    null_ks_ref[i] = null_ks_test(2000, 3000, power_ctr[i], power_ref[i], avg='no', fit_norm=True)"
   ]
  },
  {
   "cell_type": "code",
   "execution_count": null,
   "metadata": {},
   "outputs": [],
   "source": [
    "# # for null test between Group 1 & 2 fitted with Gaussian\n",
    "# avg_norm_null_ctr = np.mean(np.asarray(list(null_ks_ctr.values()))[:, 2])\n",
    "# err_norm_null_ctr = np.std(np.asarray(list(null_ks_ctr.values()))[:, 2])/len(null_ks_ctr)\n",
    "\n",
    "# # for null test between Group 2 & 3 fitted with Gaussian\n",
    "# avg_norm_null_ref = np.mean(np.asarray(list(null_ks_ref.values()))[:, 2])\n",
    "# err_norm_null_ref = np.std(np.asarray(list(null_ks_ref.values()))[:, 2])/len(null_ks_ref)\n",
    "\n",
    "# for null test between Group 1 & 2 fitted with delta CNN\n",
    "avg_cnn_null_ctr = np.mean(np.asarray(list(null_ks_ctr.values()))[:, 0])\n",
    "err_cnn_null_ctr = np.std(np.asarray(list(null_ks_ctr.values()))[:, 0])/len(null_ks_ctr)\n",
    "\n",
    "# for null test between Group 2 & 3 fitted with delta CNN\n",
    "avg_cnn_null_ref = np.mean(np.asarray(list(null_ks_ref.values()))[:, 0])\n",
    "err_cnn_null_ref = np.std(np.asarray(list(null_ks_ref.values()))[:, 0])/len(null_ks_ref)\n",
    "\n",
    "cv = np.asarray(list(null_ks_ctr.values()))[:, 1][0]"
   ]
  },
  {
   "cell_type": "code",
   "execution_count": null,
   "metadata": {},
   "outputs": [],
   "source": [
    "# plot the results\n",
    "plt.figure(figsize=(8, 3))\n",
    "plt.plot([0.5, 2.5], [cv, cv], '--', label = 'critical value ($α$=5%)')\n",
    "plt.errorbar([1, 2], [avg_norm_null_ref, avg_norm_null_ctr], [err_norm_null_ref, err_norm_null_ctr], \n",
    "            color = 'green', fmt = '.',markersize = '4', ecolor = 'green', capsize = 2, \n",
    "            elinewidth = 0.5, markeredgewidth = 0.5, label = '$\\mathcal{N}$ fit')\n",
    "plt.errorbar([1, 2], [avg_cnn_null_ref, avg_cnn_null_ctr], [err_cnn_null_ref, err_cnn_null_ctr], \n",
    "            color = 'red', fmt = '.',markersize = '4', ecolor = 'red', capsize = 2, \n",
    "            elinewidth = 0.5, markeredgewidth = 0.5, label = '$\\Delta\\mathcal{CNN}$ fit')\n",
    "plt.xticks([1, 2], ['with clear sys. features', 'without clear sys. features'], fontsize=14, rotation=0)\n",
    "plt.grid(linestyle='dotted')\n",
    "plt.legend(loc=5, fontsize=10)\n",
    "plt.ylabel('Avg. KS test stats $D$', fontsize=14)\n",
    "plt.title('Null tests + KS tests for multiple pairs of baselines', fontsize=14)\n",
    "plt.show()"
   ]
  },
  {
   "cell_type": "markdown",
   "metadata": {},
   "source": [
    "### Averaging Kolmogorov-Smirnov test statistics for $\\mathcal{CNN}$ fitting for different data sizes\n",
    "\n",
    "Repeating the above process for data selected from different delay range (2000 ns - **** ns)."
   ]
  },
  {
   "cell_type": "code",
   "execution_count": null,
   "metadata": {},
   "outputs": [],
   "source": [
    "num_dlys = []\n",
    "avg_ctr = []\n",
    "err_ctr = []\n",
    "avg_ref = []\n",
    "err_ref = []\n",
    "cv = []\n",
    "\n",
    "for i in range(30):\n",
    "    # get dlys range (corresponding to the sample size)\n",
    "    d_start = 109\n",
    "    d_end = 111+2*i\n",
    "    num_dlys.append(dlys[d_end]-dlys[d_start])\n",
    "    ks_stats_ctr = {}\n",
    "    for j in range(len(power_ctr)):\n",
    "        ks_stats_ctr[j] = ks_test(dlys[d_start], dlys[d_end], power_ctr[j])\n",
    "    ks_stats_ref = {}\n",
    "    for j in range(len(power_ref)):\n",
    "        ks_stats_ref[j] = ks_test(dlys[d_start], dlys[d_end], power_ref[j])\n",
    "    \n",
    "    avg_ctr.append(np.mean(np.asarray(list(ks_stats_ctr.values()))[:, 0]))\n",
    "    err_ctr.append(np.std(np.asarray(list(ks_stats_ctr.values()))[:, 0])/len(ks_stats_ctr))\n",
    "\n",
    "    avg_ref.append(np.mean(np.asarray(list(ks_stats_ref.values()))[:, 0]))\n",
    "    err_ref.append(np.std(np.asarray(list(ks_stats_ref.values()))[:, 0])/len(ks_stats_ref))\n",
    "\n",
    "    cv.append(np.asarray(list(ks_stats_ctr.values()))[:, 1][0])"
   ]
  },
  {
   "cell_type": "code",
   "execution_count": null,
   "metadata": {},
   "outputs": [],
   "source": [
    "plt.figure(figsize=(8, 4))\n",
    "plt.plot(num_dlys, cv, '--', label = 'critical value ($α$=5%)')\n",
    "plt.errorbar(num_dlys, avg_ctr, err_ctr, \n",
    "            color = 'green', fmt = '.',markersize = '4', ecolor = 'green', capsize = 2, \n",
    "            elinewidth = 0.5, markeredgewidth = 0.5, label = 'without clear sys. features')\n",
    "plt.errorbar(num_dlys, avg_ref, err_ref, \n",
    "            color = 'red', fmt = '.',markersize = '4', ecolor = 'red', capsize = 2, \n",
    "            elinewidth = 0.5, markeredgewidth = 0.5, label = 'with clear sys. features')\n",
    "plt.grid(linestyle='dotted')\n",
    "plt.legend(fontsize=10)\n",
    "plt.yscale(\"log\")\n",
    "plt.xlabel('Delay width [ns]', fontsize=14)\n",
    "plt.ylabel('Avg. KS test stats $D$', fontsize=14)\n",
    "plt.title('KS tests for multiple pairs of baselines', fontsize=14)\n",
    "plt.show()"
   ]
  },
  {
   "cell_type": "markdown",
   "metadata": {},
   "source": [
    "### Averaging Kolmogorov-Smirnov test statistics for $\\Delta\\mathcal{CNN}$ fitting for different data sizes"
   ]
  },
  {
   "cell_type": "code",
   "execution_count": null,
   "metadata": {},
   "outputs": [],
   "source": [
    "null_num_dlys = []\n",
    "null_avg_ctr = []\n",
    "null_err_ctr = []\n",
    "null_avg_ref = []\n",
    "null_err_ref = []\n",
    "null_cv = []\n",
    "\n",
    "for i in range(30):\n",
    "    # get dlys range (corresponding to the sample size)\n",
    "    d_start = 109\n",
    "    d_end = 111+2*i\n",
    "    null_num_dlys.append(dlys[d_end]-dlys[d_start])\n",
    "    null_ks_ctr = {}\n",
    "    for j in range(len(power_ctr)):\n",
    "        null_ks_ctr[j] = null_ks_test(dlys[d_start], dlys[d_end], power_ctr[j], power_ctr2[j])\n",
    "    null_ks_ref = {}\n",
    "    for j in range(len(power_ref)):\n",
    "        null_ks_ref[j] = null_ks_test(dlys[d_start], dlys[d_end], power_ctr[j], power_ref[j])\n",
    "    \n",
    "    null_avg_ctr.append(np.mean(np.asarray(list(null_ks_ctr.values()))[:, 0]))\n",
    "    null_err_ctr.append(np.std(np.asarray(list(null_ks_ctr.values()))[:, 0])/len(null_ks_ctr))\n",
    "\n",
    "    null_avg_ref.append(np.mean(np.asarray(list(null_ks_ref.values()))[:, 0]))\n",
    "    null_err_ref.append(np.std(np.asarray(list(null_ks_ref.values()))[:, 0])/len(null_ks_ref))\n",
    "\n",
    "    null_cv.append(np.asarray(list(null_ks_ctr.values()))[:, 1][0])"
   ]
  },
  {
   "cell_type": "code",
   "execution_count": null,
   "metadata": {},
   "outputs": [],
   "source": [
    "plt.figure(figsize=(8, 4))\n",
    "plt.plot(null_num_dlys, null_cv, '--', label = 'critical value ($α$=5%)')\n",
    "plt.errorbar(null_num_dlys, null_avg_ctr, null_err_ctr, \n",
    "            color = 'green', fmt = '.',markersize = '4', ecolor = 'green', capsize = 2, \n",
    "            elinewidth = 0.5, markeredgewidth = 0.5, label = 'without clear sys. features')\n",
    "plt.errorbar(null_num_dlys, null_avg_ref, null_err_ref, \n",
    "            color = 'red', fmt = '.',markersize = '4', ecolor = 'red', capsize = 2, \n",
    "            elinewidth = 0.5, markeredgewidth = 0.5, label = 'with clear sys. features')\n",
    "plt.grid(linestyle='dotted')\n",
    "plt.legend(fontsize=10)\n",
    "plt.yscale(\"log\")\n",
    "plt.xlabel('Delay width [ns]', fontsize=14)\n",
    "plt.ylabel('Avg. KS test stats $D$', fontsize=14)\n",
    "plt.title('KS tests for multiple pairs of baselines', fontsize=14)\n",
    "plt.show()"
   ]
  }
 ],
 "metadata": {
  "kernelspec": {
   "display_name": "Python 3",
   "language": "python",
   "name": "python3"
  },
  "language_info": {
   "codemirror_mode": {
    "name": "ipython",
    "version": 3
   },
   "file_extension": ".py",
   "mimetype": "text/x-python",
   "name": "python",
   "nbconvert_exporter": "python",
   "pygments_lexer": "ipython3",
   "version": "3.7.3"
  }
 },
 "nbformat": 4,
 "nbformat_minor": 2
}
